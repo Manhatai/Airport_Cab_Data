{
 "cells": [
  {
   "cell_type": "code",
   "execution_count": 1,
   "id": "initial_id",
   "metadata": {
    "collapsed": true,
    "ExecuteTime": {
     "end_time": "2024-01-22T22:13:17.410219Z",
     "start_time": "2024-01-22T22:13:17.293521700Z"
    }
   },
   "outputs": [],
   "source": [
    "import numpy as np"
   ]
  },
  {
   "cell_type": "code",
   "execution_count": 2,
   "outputs": [],
   "source": [
    "taxi = np.genfromtxt('nyc_taxis.csv', delimiter = ',', skip_header=True)"
   ],
   "metadata": {
    "collapsed": false,
    "ExecuteTime": {
     "end_time": "2024-01-22T22:17:07.050641700Z",
     "start_time": "2024-01-22T22:17:06.225052600Z"
    }
   },
   "id": "e43b9b6d21f912b9"
  },
  {
   "cell_type": "code",
   "execution_count": 3,
   "outputs": [],
   "source": [
    "speed = taxi[:, 7] / (taxi[:, 8]/3600) #time in seconds, change to per hour"
   ],
   "metadata": {
    "collapsed": false,
    "ExecuteTime": {
     "end_time": "2024-01-22T22:29:15.690173400Z",
     "start_time": "2024-01-22T22:29:15.679653800Z"
    }
   },
   "id": "44ed1c461f451235"
  },
  {
   "cell_type": "code",
   "execution_count": 6,
   "outputs": [
    {
     "name": "stdout",
     "output_type": "stream",
     "text": [
      "Mean speed of cabs: 32 mp/h\n"
     ]
    }
   ],
   "source": [
    "mean_speed = speed.mean()\n",
    "print(f\"Mean speed of cabs: {round(mean_speed)} mp/h\")"
   ],
   "metadata": {
    "collapsed": false,
    "ExecuteTime": {
     "end_time": "2024-01-22T22:31:49.294436700Z",
     "start_time": "2024-01-22T22:31:49.279915500Z"
    }
   },
   "id": "711533bff630341c"
  },
  {
   "cell_type": "markdown",
   "source": [],
   "metadata": {
    "collapsed": false
   },
   "id": "808520b76482d135"
  },
  {
   "cell_type": "code",
   "execution_count": 12,
   "outputs": [
    {
     "name": "stdout",
     "output_type": "stream",
     "text": [
      "13333\n"
     ]
    }
   ],
   "source": [
    "no_pickups_february = taxi[taxi[:, 1] == 2, 1]\n",
    "print(f\"Total number of rides in February {no_pickups_february.shape[0]}\")"
   ],
   "metadata": {
    "collapsed": false,
    "ExecuteTime": {
     "end_time": "2024-01-22T22:38:46.704493100Z",
     "start_time": "2024-01-22T22:38:46.690441200Z"
    }
   },
   "id": "f8539a47fd8748b1"
  },
  {
   "cell_type": "code",
   "execution_count": 13,
   "outputs": [
    {
     "name": "stdout",
     "output_type": "stream",
     "text": [
      "Number of tips above 50$: 16\n"
     ]
    }
   ],
   "source": [
    "tips = taxi[taxi[:, -3] > 50, -3] # -3 cause applying the boolean to all the rows\n",
    "print(f\"Number of tips above 50$: {tips.shape[0]}\")"
   ],
   "metadata": {
    "collapsed": false,
    "ExecuteTime": {
     "end_time": "2024-01-22T22:49:39.872190300Z",
     "start_time": "2024-01-22T22:49:39.824509500Z"
    }
   },
   "id": "84e7dc102ab59324"
  },
  {
   "cell_type": "code",
   "execution_count": null,
   "outputs": [],
   "source": [],
   "metadata": {
    "collapsed": false
   },
   "id": "ae86524311b47976"
  }
 ],
 "metadata": {
  "kernelspec": {
   "display_name": "Python 3",
   "language": "python",
   "name": "python3"
  },
  "language_info": {
   "codemirror_mode": {
    "name": "ipython",
    "version": 2
   },
   "file_extension": ".py",
   "mimetype": "text/x-python",
   "name": "python",
   "nbconvert_exporter": "python",
   "pygments_lexer": "ipython2",
   "version": "2.7.6"
  }
 },
 "nbformat": 4,
 "nbformat_minor": 5
}
